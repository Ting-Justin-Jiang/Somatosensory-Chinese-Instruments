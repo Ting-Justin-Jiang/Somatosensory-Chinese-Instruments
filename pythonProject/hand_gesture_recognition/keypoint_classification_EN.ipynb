{
 "cells": [
  {
   "cell_type": "code",
   "execution_count": 1,
   "metadata": {
    "id": "igMyGnjE9hEp"
   },
   "outputs": [],
   "source": [
    "import csv\n",
    "\n",
    "import numpy as np\n",
    "import tensorflow as tf\n",
    "from sklearn.model_selection import train_test_split\n",
    "\n",
    "RANDOM_SEED = 42"
   ]
  },
  {
   "cell_type": "markdown",
   "metadata": {
    "id": "t2HDvhIu9hEr"
   },
   "source": [
    "# Specify each path"
   ]
  },
  {
   "cell_type": "code",
   "execution_count": 2,
   "metadata": {
    "id": "9NvZP2Zn9hEy"
   },
   "outputs": [],
   "source": [
    "dataset = 'model/keypoint_classifier/keypoint.csv'\n",
    "model_save_path = 'model/keypoint_classifier/keypoint_classifier.hdf5'\n",
    "tflite_save_path = 'model/keypoint_classifier/keypoint_classifier.tflite'"
   ]
  },
  {
   "cell_type": "markdown",
   "metadata": {
    "id": "s5oMH7x19hEz"
   },
   "source": [
    "# Set number of classes"
   ]
  },
  {
   "cell_type": "code",
   "execution_count": 3,
   "metadata": {
    "id": "du4kodXL9hEz"
   },
   "outputs": [],
   "source": [
    "NUM_CLASSES = 7"
   ]
  },
  {
   "cell_type": "markdown",
   "metadata": {
    "id": "XjnL0uso9hEz"
   },
   "source": [
    "# Dataset reading"
   ]
  },
  {
   "cell_type": "code",
   "execution_count": 4,
   "metadata": {
    "id": "QT5ZqtEz9hE0"
   },
   "outputs": [],
   "source": [
    "X_dataset = np.loadtxt(dataset, delimiter=',', dtype='float32', usecols=list(range(1, (21 * 2) + 1)))"
   ]
  },
  {
   "cell_type": "code",
   "execution_count": 5,
   "metadata": {
    "id": "QmoKFsp49hE0"
   },
   "outputs": [],
   "source": [
    "y_dataset = np.loadtxt(dataset, delimiter=',', dtype='int32', usecols=(0))"
   ]
  },
  {
   "cell_type": "code",
   "execution_count": 6,
   "metadata": {
    "id": "xQU7JTZ_9hE0"
   },
   "outputs": [],
   "source": [
    "X_train, X_test, y_train, y_test = train_test_split(X_dataset, y_dataset, train_size=0.75, random_state=RANDOM_SEED)"
   ]
  },
  {
   "cell_type": "markdown",
   "metadata": {
    "id": "mxK_lETT9hE0"
   },
   "source": [
    "# Model building"
   ]
  },
  {
   "cell_type": "code",
   "execution_count": 7,
   "metadata": {
    "id": "vHBmUf1t9hE1"
   },
   "outputs": [],
   "source": [
    "model = tf.keras.models.Sequential([\n",
    "    tf.keras.layers.Input((21 * 2, )),\n",
    "    tf.keras.layers.Dropout(0.2),\n",
    "    tf.keras.layers.Dense(20, activation='relu'),\n",
    "    tf.keras.layers.Dropout(0.4),\n",
    "    tf.keras.layers.Dense(10, activation='relu'),\n",
    "    tf.keras.layers.Dense(NUM_CLASSES, activation='softmax')\n",
    "])"
   ]
  },
  {
   "cell_type": "code",
   "execution_count": 8,
   "metadata": {
    "colab": {
     "base_uri": "https://localhost:8080/"
    },
    "id": "ypqky9tc9hE1",
    "outputId": "5db082bb-30e3-4110-bf63-a1ee777ecd46"
   },
   "outputs": [
    {
     "name": "stdout",
     "output_type": "stream",
     "text": [
      "Model: \"sequential\"\n",
      "_________________________________________________________________\n",
      " Layer (type)                Output Shape              Param #   \n",
      "=================================================================\n",
      " dropout (Dropout)           (None, 42)                0         \n",
      "                                                                 \n",
      " dense (Dense)               (None, 20)                860       \n",
      "                                                                 \n",
      " dropout_1 (Dropout)         (None, 20)                0         \n",
      "                                                                 \n",
      " dense_1 (Dense)             (None, 10)                210       \n",
      "                                                                 \n",
      " dense_2 (Dense)             (None, 7)                 77        \n",
      "                                                                 \n",
      "=================================================================\n",
      "Total params: 1,147\n",
      "Trainable params: 1,147\n",
      "Non-trainable params: 0\n",
      "_________________________________________________________________\n"
     ]
    }
   ],
   "source": [
    "model.summary()  # tf.keras.utils.plot_model(model, show_shapes=True)"
   ]
  },
  {
   "cell_type": "code",
   "execution_count": 9,
   "metadata": {
    "id": "MbMjOflQ9hE1"
   },
   "outputs": [],
   "source": [
    "# Model checkpoint callback\n",
    "cp_callback = tf.keras.callbacks.ModelCheckpoint(\n",
    "    model_save_path, verbose=1, save_weights_only=False)\n",
    "# Callback for early stopping\n",
    "es_callback = tf.keras.callbacks.EarlyStopping(patience=20, verbose=1)"
   ]
  },
  {
   "cell_type": "code",
   "execution_count": 10,
   "metadata": {
    "id": "c3Dac0M_9hE2"
   },
   "outputs": [],
   "source": [
    "# Model compilation\n",
    "model.compile(\n",
    "    optimizer='adam',\n",
    "    loss='sparse_categorical_crossentropy',\n",
    "    metrics=['accuracy']\n",
    ")"
   ]
  },
  {
   "cell_type": "markdown",
   "metadata": {
    "id": "7XI0j1Iu9hE2"
   },
   "source": [
    "# Model training"
   ]
  },
  {
   "cell_type": "code",
   "execution_count": 11,
   "metadata": {
    "colab": {
     "base_uri": "https://localhost:8080/"
    },
    "id": "WirBl-JE9hE3",
    "outputId": "71b30ca2-8294-4d9d-8aa2-800d90d399de",
    "scrolled": true
   },
   "outputs": [
    {
     "name": "stdout",
     "output_type": "stream",
     "text": [
      "Epoch 1/1000\n",
      " 1/44 [..............................] - ETA: 8s - loss: 1.8990 - accuracy: 0.2344\n",
      "Epoch 1: saving model to model/keypoint_classifier\\keypoint_classifier.hdf5\n",
      "44/44 [==============================] - 0s 4ms/step - loss: 1.8366 - accuracy: 0.2495 - val_loss: 1.7503 - val_accuracy: 0.3576\n",
      "Epoch 2/1000\n",
      " 1/44 [..............................] - ETA: 0s - loss: 1.7641 - accuracy: 0.3047\n",
      "Epoch 2: saving model to model/keypoint_classifier\\keypoint_classifier.hdf5\n",
      "44/44 [==============================] - 0s 2ms/step - loss: 1.7422 - accuracy: 0.3103 - val_loss: 1.6425 - val_accuracy: 0.3860\n",
      "Epoch 3/1000\n",
      " 1/44 [..............................] - ETA: 0s - loss: 1.7450 - accuracy: 0.3359\n",
      "Epoch 3: saving model to model/keypoint_classifier\\keypoint_classifier.hdf5\n",
      "44/44 [==============================] - 0s 2ms/step - loss: 1.6881 - accuracy: 0.3446 - val_loss: 1.5682 - val_accuracy: 0.4197\n",
      "Epoch 4/1000\n",
      " 1/44 [..............................] - ETA: 0s - loss: 1.7022 - accuracy: 0.2891\n",
      "Epoch 4: saving model to model/keypoint_classifier\\keypoint_classifier.hdf5\n",
      "44/44 [==============================] - 0s 2ms/step - loss: 1.6383 - accuracy: 0.3677 - val_loss: 1.5012 - val_accuracy: 0.4731\n",
      "Epoch 5/1000\n",
      " 1/44 [..............................] - ETA: 0s - loss: 1.6141 - accuracy: 0.3594\n",
      "Epoch 5: saving model to model/keypoint_classifier\\keypoint_classifier.hdf5\n",
      "44/44 [==============================] - 0s 2ms/step - loss: 1.5947 - accuracy: 0.3833 - val_loss: 1.4439 - val_accuracy: 0.5171\n",
      "Epoch 6/1000\n",
      " 1/44 [..............................] - ETA: 0s - loss: 1.6349 - accuracy: 0.3594\n",
      "Epoch 6: saving model to model/keypoint_classifier\\keypoint_classifier.hdf5\n",
      "44/44 [==============================] - 0s 2ms/step - loss: 1.5698 - accuracy: 0.3973 - val_loss: 1.3881 - val_accuracy: 0.5444\n",
      "Epoch 7/1000\n",
      " 1/44 [..............................] - ETA: 0s - loss: 1.5308 - accuracy: 0.4219\n",
      "Epoch 7: saving model to model/keypoint_classifier\\keypoint_classifier.hdf5\n",
      "44/44 [==============================] - 0s 2ms/step - loss: 1.5115 - accuracy: 0.4254 - val_loss: 1.3306 - val_accuracy: 0.5874\n",
      "Epoch 8/1000\n",
      " 1/44 [..............................] - ETA: 0s - loss: 1.5729 - accuracy: 0.3828\n",
      "Epoch 8: saving model to model/keypoint_classifier\\keypoint_classifier.hdf5\n",
      "44/44 [==============================] - 0s 2ms/step - loss: 1.4900 - accuracy: 0.4339 - val_loss: 1.2886 - val_accuracy: 0.5977\n",
      "Epoch 9/1000\n",
      " 1/44 [..............................] - ETA: 0s - loss: 1.4866 - accuracy: 0.4297\n",
      "Epoch 9: saving model to model/keypoint_classifier\\keypoint_classifier.hdf5\n",
      "44/44 [==============================] - 0s 2ms/step - loss: 1.4540 - accuracy: 0.4583 - val_loss: 1.2430 - val_accuracy: 0.6282\n",
      "Epoch 10/1000\n",
      " 1/44 [..............................] - ETA: 0s - loss: 1.3147 - accuracy: 0.5078\n",
      "Epoch 10: saving model to model/keypoint_classifier\\keypoint_classifier.hdf5\n",
      "44/44 [==============================] - 0s 2ms/step - loss: 1.4340 - accuracy: 0.4597 - val_loss: 1.2031 - val_accuracy: 0.6478\n",
      "Epoch 11/1000\n",
      " 1/44 [..............................] - ETA: 0s - loss: 1.5590 - accuracy: 0.4062\n",
      "Epoch 11: saving model to model/keypoint_classifier\\keypoint_classifier.hdf5\n",
      "44/44 [==============================] - 0s 2ms/step - loss: 1.4021 - accuracy: 0.4795 - val_loss: 1.1642 - val_accuracy: 0.6560\n",
      "Epoch 12/1000\n",
      " 1/44 [..............................] - ETA: 0s - loss: 1.5369 - accuracy: 0.3750\n",
      "Epoch 12: saving model to model/keypoint_classifier\\keypoint_classifier.hdf5\n",
      "44/44 [==============================] - 0s 2ms/step - loss: 1.3888 - accuracy: 0.4762 - val_loss: 1.1339 - val_accuracy: 0.6756\n",
      "Epoch 13/1000\n",
      " 1/44 [..............................] - ETA: 0s - loss: 1.4531 - accuracy: 0.4688\n",
      "Epoch 13: saving model to model/keypoint_classifier\\keypoint_classifier.hdf5\n",
      "44/44 [==============================] - 0s 2ms/step - loss: 1.3767 - accuracy: 0.4779 - val_loss: 1.1104 - val_accuracy: 0.6815\n",
      "Epoch 14/1000\n",
      " 1/44 [..............................] - ETA: 0s - loss: 1.3181 - accuracy: 0.4922\n",
      "Epoch 14: saving model to model/keypoint_classifier\\keypoint_classifier.hdf5\n",
      "44/44 [==============================] - 0s 2ms/step - loss: 1.3393 - accuracy: 0.5082 - val_loss: 1.0712 - val_accuracy: 0.6979\n",
      "Epoch 15/1000\n",
      " 1/44 [..............................] - ETA: 0s - loss: 1.3229 - accuracy: 0.5078\n",
      "Epoch 15: saving model to model/keypoint_classifier\\keypoint_classifier.hdf5\n",
      "44/44 [==============================] - 0s 2ms/step - loss: 1.3185 - accuracy: 0.5191 - val_loss: 1.0514 - val_accuracy: 0.7207\n",
      "Epoch 16/1000\n",
      " 1/44 [..............................] - ETA: 0s - loss: 1.2757 - accuracy: 0.5469\n",
      "Epoch 16: saving model to model/keypoint_classifier\\keypoint_classifier.hdf5\n",
      "44/44 [==============================] - 0s 2ms/step - loss: 1.3168 - accuracy: 0.5100 - val_loss: 1.0263 - val_accuracy: 0.7099\n",
      "Epoch 17/1000\n",
      " 1/44 [..............................] - ETA: 0s - loss: 1.2599 - accuracy: 0.5547\n",
      "Epoch 17: saving model to model/keypoint_classifier\\keypoint_classifier.hdf5\n",
      "44/44 [==============================] - 0s 2ms/step - loss: 1.3066 - accuracy: 0.5192 - val_loss: 1.0114 - val_accuracy: 0.7354\n",
      "Epoch 18/1000\n",
      " 1/44 [..............................] - ETA: 0s - loss: 1.3380 - accuracy: 0.5078\n",
      "Epoch 18: saving model to model/keypoint_classifier\\keypoint_classifier.hdf5\n",
      "44/44 [==============================] - 0s 2ms/step - loss: 1.2908 - accuracy: 0.5256 - val_loss: 0.9924 - val_accuracy: 0.7278\n",
      "Epoch 19/1000\n",
      " 1/44 [..............................] - ETA: 0s - loss: 1.3169 - accuracy: 0.5078\n",
      "Epoch 19: saving model to model/keypoint_classifier\\keypoint_classifier.hdf5\n",
      "44/44 [==============================] - 0s 2ms/step - loss: 1.2688 - accuracy: 0.5368 - val_loss: 0.9663 - val_accuracy: 0.7354\n",
      "Epoch 20/1000\n",
      " 1/44 [..............................] - ETA: 0s - loss: 1.1056 - accuracy: 0.5391\n",
      "Epoch 20: saving model to model/keypoint_classifier\\keypoint_classifier.hdf5\n",
      "44/44 [==============================] - 0s 2ms/step - loss: 1.2572 - accuracy: 0.5332 - val_loss: 0.9482 - val_accuracy: 0.7578\n",
      "Epoch 21/1000\n",
      " 1/44 [..............................] - ETA: 0s - loss: 1.1819 - accuracy: 0.6016\n",
      "Epoch 21: saving model to model/keypoint_classifier\\keypoint_classifier.hdf5\n",
      "44/44 [==============================] - 0s 2ms/step - loss: 1.2566 - accuracy: 0.5417 - val_loss: 0.9384 - val_accuracy: 0.7545\n",
      "Epoch 22/1000\n",
      " 1/44 [..............................] - ETA: 0s - loss: 1.1952 - accuracy: 0.5781\n",
      "Epoch 22: saving model to model/keypoint_classifier\\keypoint_classifier.hdf5\n",
      "44/44 [==============================] - 0s 2ms/step - loss: 1.2447 - accuracy: 0.5508 - val_loss: 0.9258 - val_accuracy: 0.7572\n",
      "Epoch 23/1000\n",
      " 1/44 [..............................] - ETA: 0s - loss: 1.2497 - accuracy: 0.5234\n",
      "Epoch 23: saving model to model/keypoint_classifier\\keypoint_classifier.hdf5\n",
      "44/44 [==============================] - 0s 2ms/step - loss: 1.2231 - accuracy: 0.5526 - val_loss: 0.9111 - val_accuracy: 0.7621\n",
      "Epoch 24/1000\n",
      " 1/44 [..............................] - ETA: 0s - loss: 1.2534 - accuracy: 0.4766\n",
      "Epoch 24: saving model to model/keypoint_classifier\\keypoint_classifier.hdf5\n",
      "44/44 [==============================] - 0s 2ms/step - loss: 1.2179 - accuracy: 0.5537 - val_loss: 0.9047 - val_accuracy: 0.7588\n",
      "Epoch 25/1000\n",
      " 1/44 [..............................] - ETA: 0s - loss: 1.1159 - accuracy: 0.6250\n",
      "Epoch 25: saving model to model/keypoint_classifier\\keypoint_classifier.hdf5\n",
      "44/44 [==============================] - 0s 2ms/step - loss: 1.1962 - accuracy: 0.5659 - val_loss: 0.8893 - val_accuracy: 0.7632\n",
      "Epoch 26/1000\n",
      " 1/44 [..............................] - ETA: 0s - loss: 1.0683 - accuracy: 0.6094\n",
      "Epoch 26: saving model to model/keypoint_classifier\\keypoint_classifier.hdf5\n",
      "44/44 [==============================] - 0s 2ms/step - loss: 1.2164 - accuracy: 0.5621 - val_loss: 0.8819 - val_accuracy: 0.7594\n",
      "Epoch 27/1000\n",
      " 1/44 [..............................] - ETA: 0s - loss: 1.2930 - accuracy: 0.5547\n",
      "Epoch 27: saving model to model/keypoint_classifier\\keypoint_classifier.hdf5\n",
      "44/44 [==============================] - 0s 2ms/step - loss: 1.2189 - accuracy: 0.5557 - val_loss: 0.8867 - val_accuracy: 0.7648\n",
      "Epoch 28/1000\n"
     ]
    },
    {
     "name": "stdout",
     "output_type": "stream",
     "text": [
      " 1/44 [..............................] - ETA: 0s - loss: 1.1628 - accuracy: 0.5703\n",
      "Epoch 28: saving model to model/keypoint_classifier\\keypoint_classifier.hdf5\n",
      "44/44 [==============================] - 0s 2ms/step - loss: 1.2126 - accuracy: 0.5677 - val_loss: 0.8673 - val_accuracy: 0.7714\n",
      "Epoch 29/1000\n",
      " 1/44 [..............................] - ETA: 0s - loss: 1.2718 - accuracy: 0.5469\n",
      "Epoch 29: saving model to model/keypoint_classifier\\keypoint_classifier.hdf5\n",
      "44/44 [==============================] - 0s 2ms/step - loss: 1.2025 - accuracy: 0.5681 - val_loss: 0.8546 - val_accuracy: 0.7708\n",
      "Epoch 30/1000\n",
      " 1/44 [..............................] - ETA: 0s - loss: 1.2328 - accuracy: 0.5078\n",
      "Epoch 30: saving model to model/keypoint_classifier\\keypoint_classifier.hdf5\n",
      "44/44 [==============================] - 0s 2ms/step - loss: 1.1723 - accuracy: 0.5770 - val_loss: 0.8411 - val_accuracy: 0.7757\n",
      "Epoch 31/1000\n",
      " 1/44 [..............................] - ETA: 0s - loss: 1.1649 - accuracy: 0.5625\n",
      "Epoch 31: saving model to model/keypoint_classifier\\keypoint_classifier.hdf5\n",
      "44/44 [==============================] - 0s 2ms/step - loss: 1.1818 - accuracy: 0.5786 - val_loss: 0.8381 - val_accuracy: 0.7801\n",
      "Epoch 32/1000\n",
      " 1/44 [..............................] - ETA: 0s - loss: 1.0621 - accuracy: 0.5859\n",
      "Epoch 32: saving model to model/keypoint_classifier\\keypoint_classifier.hdf5\n",
      "44/44 [==============================] - 0s 2ms/step - loss: 1.1785 - accuracy: 0.5740 - val_loss: 0.8353 - val_accuracy: 0.7790\n",
      "Epoch 33/1000\n",
      " 1/44 [..............................] - ETA: 0s - loss: 1.2012 - accuracy: 0.5781\n",
      "Epoch 33: saving model to model/keypoint_classifier\\keypoint_classifier.hdf5\n",
      "44/44 [==============================] - 0s 2ms/step - loss: 1.1610 - accuracy: 0.5940 - val_loss: 0.8272 - val_accuracy: 0.7779\n",
      "Epoch 34/1000\n",
      " 1/44 [..............................] - ETA: 0s - loss: 1.1350 - accuracy: 0.5781\n",
      "Epoch 34: saving model to model/keypoint_classifier\\keypoint_classifier.hdf5\n",
      "44/44 [==============================] - 0s 2ms/step - loss: 1.1659 - accuracy: 0.5882 - val_loss: 0.8210 - val_accuracy: 0.7806\n",
      "Epoch 35/1000\n",
      " 1/44 [..............................] - ETA: 0s - loss: 1.1457 - accuracy: 0.5938\n",
      "Epoch 35: saving model to model/keypoint_classifier\\keypoint_classifier.hdf5\n",
      "44/44 [==============================] - 0s 2ms/step - loss: 1.1715 - accuracy: 0.5750 - val_loss: 0.8259 - val_accuracy: 0.7774\n",
      "Epoch 36/1000\n",
      " 1/44 [..............................] - ETA: 0s - loss: 1.2411 - accuracy: 0.5469\n",
      "Epoch 36: saving model to model/keypoint_classifier\\keypoint_classifier.hdf5\n",
      "44/44 [==============================] - 0s 2ms/step - loss: 1.1617 - accuracy: 0.5862 - val_loss: 0.8124 - val_accuracy: 0.7855\n",
      "Epoch 37/1000\n",
      " 1/44 [..............................] - ETA: 0s - loss: 1.3283 - accuracy: 0.5391\n",
      "Epoch 37: saving model to model/keypoint_classifier\\keypoint_classifier.hdf5\n",
      "44/44 [==============================] - 0s 2ms/step - loss: 1.1435 - accuracy: 0.5860 - val_loss: 0.8048 - val_accuracy: 0.7931\n",
      "Epoch 38/1000\n",
      " 1/44 [..............................] - ETA: 0s - loss: 1.2131 - accuracy: 0.5781\n",
      "Epoch 38: saving model to model/keypoint_classifier\\keypoint_classifier.hdf5\n",
      "44/44 [==============================] - 0s 2ms/step - loss: 1.1418 - accuracy: 0.5868 - val_loss: 0.7974 - val_accuracy: 0.7861\n",
      "Epoch 39/1000\n",
      " 1/44 [..............................] - ETA: 0s - loss: 1.1001 - accuracy: 0.6250\n",
      "Epoch 39: saving model to model/keypoint_classifier\\keypoint_classifier.hdf5\n",
      "44/44 [==============================] - 0s 2ms/step - loss: 1.1406 - accuracy: 0.5926 - val_loss: 0.7962 - val_accuracy: 0.7888\n",
      "Epoch 40/1000\n",
      " 1/44 [..............................] - ETA: 0s - loss: 1.2396 - accuracy: 0.5547\n",
      "Epoch 40: saving model to model/keypoint_classifier\\keypoint_classifier.hdf5\n",
      "44/44 [==============================] - 0s 2ms/step - loss: 1.1439 - accuracy: 0.5933 - val_loss: 0.7902 - val_accuracy: 0.7844\n",
      "Epoch 41/1000\n",
      " 1/44 [..............................] - ETA: 0s - loss: 1.0266 - accuracy: 0.6094\n",
      "Epoch 41: saving model to model/keypoint_classifier\\keypoint_classifier.hdf5\n",
      "44/44 [==============================] - 0s 2ms/step - loss: 1.1287 - accuracy: 0.5985 - val_loss: 0.7834 - val_accuracy: 0.7861\n",
      "Epoch 42/1000\n",
      " 1/44 [..............................] - ETA: 0s - loss: 1.0476 - accuracy: 0.6172\n",
      "Epoch 42: saving model to model/keypoint_classifier\\keypoint_classifier.hdf5\n",
      "44/44 [==============================] - 0s 2ms/step - loss: 1.1428 - accuracy: 0.5880 - val_loss: 0.7781 - val_accuracy: 0.7899\n",
      "Epoch 43/1000\n",
      " 1/44 [..............................] - ETA: 0s - loss: 1.0886 - accuracy: 0.6172\n",
      "Epoch 43: saving model to model/keypoint_classifier\\keypoint_classifier.hdf5\n",
      "44/44 [==============================] - 0s 2ms/step - loss: 1.1318 - accuracy: 0.5975 - val_loss: 0.7733 - val_accuracy: 0.7899\n",
      "Epoch 44/1000\n",
      " 1/44 [..............................] - ETA: 0s - loss: 1.2463 - accuracy: 0.5078\n",
      "Epoch 44: saving model to model/keypoint_classifier\\keypoint_classifier.hdf5\n",
      "44/44 [==============================] - 0s 2ms/step - loss: 1.1323 - accuracy: 0.5931 - val_loss: 0.7734 - val_accuracy: 0.7991\n",
      "Epoch 45/1000\n",
      " 1/44 [..............................] - ETA: 0s - loss: 1.0375 - accuracy: 0.6562\n",
      "Epoch 45: saving model to model/keypoint_classifier\\keypoint_classifier.hdf5\n",
      "44/44 [==============================] - 0s 2ms/step - loss: 1.1140 - accuracy: 0.6069 - val_loss: 0.7600 - val_accuracy: 0.7964\n",
      "Epoch 46/1000\n",
      " 1/44 [..............................] - ETA: 0s - loss: 1.1686 - accuracy: 0.6094\n",
      "Epoch 46: saving model to model/keypoint_classifier\\keypoint_classifier.hdf5\n",
      "44/44 [==============================] - 0s 2ms/step - loss: 1.1301 - accuracy: 0.5998 - val_loss: 0.7649 - val_accuracy: 0.7839\n",
      "Epoch 47/1000\n",
      " 1/44 [..............................] - ETA: 0s - loss: 1.1011 - accuracy: 0.6094\n",
      "Epoch 47: saving model to model/keypoint_classifier\\keypoint_classifier.hdf5\n",
      "44/44 [==============================] - 0s 2ms/step - loss: 1.1256 - accuracy: 0.6002 - val_loss: 0.7678 - val_accuracy: 0.7915\n",
      "Epoch 48/1000\n",
      " 1/44 [..............................] - ETA: 0s - loss: 1.0666 - accuracy: 0.6172\n",
      "Epoch 48: saving model to model/keypoint_classifier\\keypoint_classifier.hdf5\n",
      "44/44 [==============================] - 0s 2ms/step - loss: 1.1010 - accuracy: 0.6127 - val_loss: 0.7599 - val_accuracy: 0.7975\n",
      "Epoch 49/1000\n",
      " 1/44 [..............................] - ETA: 0s - loss: 1.0829 - accuracy: 0.5859\n",
      "Epoch 49: saving model to model/keypoint_classifier\\keypoint_classifier.hdf5\n",
      "44/44 [==============================] - 0s 2ms/step - loss: 1.1159 - accuracy: 0.6080 - val_loss: 0.7592 - val_accuracy: 0.8013\n",
      "Epoch 50/1000\n",
      " 1/44 [..............................] - ETA: 0s - loss: 1.2645 - accuracy: 0.5312\n",
      "Epoch 50: saving model to model/keypoint_classifier\\keypoint_classifier.hdf5\n",
      "44/44 [==============================] - 0s 2ms/step - loss: 1.1123 - accuracy: 0.6116 - val_loss: 0.7485 - val_accuracy: 0.7980\n",
      "Epoch 51/1000\n",
      " 1/44 [..............................] - ETA: 0s - loss: 1.1480 - accuracy: 0.6094\n",
      "Epoch 51: saving model to model/keypoint_classifier\\keypoint_classifier.hdf5\n",
      "44/44 [==============================] - 0s 2ms/step - loss: 1.1126 - accuracy: 0.6098 - val_loss: 0.7379 - val_accuracy: 0.7986\n",
      "Epoch 52/1000\n",
      " 1/44 [..............................] - ETA: 0s - loss: 1.0490 - accuracy: 0.6094\n",
      "Epoch 52: saving model to model/keypoint_classifier\\keypoint_classifier.hdf5\n",
      "44/44 [==============================] - 0s 2ms/step - loss: 1.0988 - accuracy: 0.6087 - val_loss: 0.7426 - val_accuracy: 0.7937\n",
      "Epoch 53/1000\n",
      " 1/44 [..............................] - ETA: 0s - loss: 1.0462 - accuracy: 0.6250\n",
      "Epoch 53: saving model to model/keypoint_classifier\\keypoint_classifier.hdf5\n",
      "44/44 [==============================] - 0s 2ms/step - loss: 1.1238 - accuracy: 0.5942 - val_loss: 0.7437 - val_accuracy: 0.8149\n",
      "Epoch 54/1000\n",
      " 1/44 [..............................] - ETA: 0s - loss: 1.0053 - accuracy: 0.6719\n",
      "Epoch 54: saving model to model/keypoint_classifier\\keypoint_classifier.hdf5\n",
      "44/44 [==============================] - 0s 2ms/step - loss: 1.1062 - accuracy: 0.6103 - val_loss: 0.7378 - val_accuracy: 0.8062\n",
      "Epoch 55/1000\n"
     ]
    },
    {
     "name": "stdout",
     "output_type": "stream",
     "text": [
      " 1/44 [..............................] - ETA: 0s - loss: 1.1984 - accuracy: 0.5625\n",
      "Epoch 55: saving model to model/keypoint_classifier\\keypoint_classifier.hdf5\n",
      "44/44 [==============================] - 0s 2ms/step - loss: 1.1118 - accuracy: 0.6098 - val_loss: 0.7369 - val_accuracy: 0.8002\n",
      "Epoch 56/1000\n",
      " 1/44 [..............................] - ETA: 0s - loss: 1.1383 - accuracy: 0.5859\n",
      "Epoch 56: saving model to model/keypoint_classifier\\keypoint_classifier.hdf5\n",
      "44/44 [==============================] - 0s 2ms/step - loss: 1.0931 - accuracy: 0.6140 - val_loss: 0.7258 - val_accuracy: 0.8089\n",
      "Epoch 57/1000\n",
      " 1/44 [..............................] - ETA: 0s - loss: 0.9495 - accuracy: 0.6719\n",
      "Epoch 57: saving model to model/keypoint_classifier\\keypoint_classifier.hdf5\n",
      "44/44 [==============================] - 0s 2ms/step - loss: 1.0924 - accuracy: 0.6120 - val_loss: 0.7284 - val_accuracy: 0.7986\n",
      "Epoch 58/1000\n",
      " 1/44 [..............................] - ETA: 0s - loss: 1.0842 - accuracy: 0.5859\n",
      "Epoch 58: saving model to model/keypoint_classifier\\keypoint_classifier.hdf5\n",
      "44/44 [==============================] - 0s 2ms/step - loss: 1.0878 - accuracy: 0.6189 - val_loss: 0.7229 - val_accuracy: 0.8073\n",
      "Epoch 59/1000\n",
      " 1/44 [..............................] - ETA: 0s - loss: 0.9917 - accuracy: 0.6484\n",
      "Epoch 59: saving model to model/keypoint_classifier\\keypoint_classifier.hdf5\n",
      "44/44 [==============================] - 0s 2ms/step - loss: 1.0918 - accuracy: 0.6169 - val_loss: 0.7230 - val_accuracy: 0.8144\n",
      "Epoch 60/1000\n",
      " 1/44 [..............................] - ETA: 0s - loss: 0.9355 - accuracy: 0.6094\n",
      "Epoch 60: saving model to model/keypoint_classifier\\keypoint_classifier.hdf5\n",
      "44/44 [==============================] - 0s 2ms/step - loss: 1.0909 - accuracy: 0.6142 - val_loss: 0.7198 - val_accuracy: 0.8149\n",
      "Epoch 61/1000\n",
      " 1/44 [..............................] - ETA: 0s - loss: 0.9143 - accuracy: 0.7031\n",
      "Epoch 61: saving model to model/keypoint_classifier\\keypoint_classifier.hdf5\n",
      "44/44 [==============================] - 0s 2ms/step - loss: 1.0633 - accuracy: 0.6310 - val_loss: 0.7137 - val_accuracy: 0.8165\n",
      "Epoch 62/1000\n",
      " 1/44 [..............................] - ETA: 0s - loss: 1.0478 - accuracy: 0.6328\n",
      "Epoch 62: saving model to model/keypoint_classifier\\keypoint_classifier.hdf5\n",
      "44/44 [==============================] - 0s 2ms/step - loss: 1.0826 - accuracy: 0.6176 - val_loss: 0.7102 - val_accuracy: 0.8171\n",
      "Epoch 63/1000\n",
      " 1/44 [..............................] - ETA: 0s - loss: 1.0913 - accuracy: 0.6094\n",
      "Epoch 63: saving model to model/keypoint_classifier\\keypoint_classifier.hdf5\n",
      "44/44 [==============================] - 0s 2ms/step - loss: 1.0912 - accuracy: 0.6074 - val_loss: 0.7177 - val_accuracy: 0.8133\n",
      "Epoch 64/1000\n",
      " 1/44 [..............................] - ETA: 0s - loss: 1.1383 - accuracy: 0.6328\n",
      "Epoch 64: saving model to model/keypoint_classifier\\keypoint_classifier.hdf5\n",
      "44/44 [==============================] - 0s 2ms/step - loss: 1.0774 - accuracy: 0.6205 - val_loss: 0.7100 - val_accuracy: 0.8193\n",
      "Epoch 65/1000\n",
      " 1/44 [..............................] - ETA: 0s - loss: 1.3897 - accuracy: 0.4844\n",
      "Epoch 65: saving model to model/keypoint_classifier\\keypoint_classifier.hdf5\n",
      "44/44 [==============================] - 0s 2ms/step - loss: 1.0894 - accuracy: 0.6185 - val_loss: 0.7133 - val_accuracy: 0.8095\n",
      "Epoch 66/1000\n",
      " 1/44 [..............................] - ETA: 0s - loss: 1.1272 - accuracy: 0.6172\n",
      "Epoch 66: saving model to model/keypoint_classifier\\keypoint_classifier.hdf5\n",
      "44/44 [==============================] - 0s 2ms/step - loss: 1.0854 - accuracy: 0.6120 - val_loss: 0.7135 - val_accuracy: 0.8155\n",
      "Epoch 67/1000\n",
      " 1/44 [..............................] - ETA: 0s - loss: 1.0276 - accuracy: 0.6484\n",
      "Epoch 67: saving model to model/keypoint_classifier\\keypoint_classifier.hdf5\n",
      "44/44 [==============================] - 0s 2ms/step - loss: 1.0948 - accuracy: 0.6167 - val_loss: 0.7083 - val_accuracy: 0.8171\n",
      "Epoch 68/1000\n",
      " 1/44 [..............................] - ETA: 0s - loss: 0.8871 - accuracy: 0.6641\n",
      "Epoch 68: saving model to model/keypoint_classifier\\keypoint_classifier.hdf5\n",
      "44/44 [==============================] - 0s 2ms/step - loss: 1.0749 - accuracy: 0.6221 - val_loss: 0.7056 - val_accuracy: 0.8165\n",
      "Epoch 69/1000\n",
      " 1/44 [..............................] - ETA: 0s - loss: 1.0811 - accuracy: 0.6484\n",
      "Epoch 69: saving model to model/keypoint_classifier\\keypoint_classifier.hdf5\n",
      "44/44 [==============================] - 0s 2ms/step - loss: 1.0913 - accuracy: 0.6122 - val_loss: 0.7074 - val_accuracy: 0.8171\n",
      "Epoch 70/1000\n",
      " 1/44 [..............................] - ETA: 0s - loss: 1.0307 - accuracy: 0.6328\n",
      "Epoch 70: saving model to model/keypoint_classifier\\keypoint_classifier.hdf5\n",
      "44/44 [==============================] - 0s 2ms/step - loss: 1.0833 - accuracy: 0.6200 - val_loss: 0.7041 - val_accuracy: 0.8274\n",
      "Epoch 71/1000\n",
      " 1/44 [..............................] - ETA: 0s - loss: 1.2765 - accuracy: 0.5312\n",
      "Epoch 71: saving model to model/keypoint_classifier\\keypoint_classifier.hdf5\n",
      "44/44 [==============================] - 0s 2ms/step - loss: 1.0798 - accuracy: 0.6218 - val_loss: 0.7006 - val_accuracy: 0.8269\n",
      "Epoch 72/1000\n",
      " 1/44 [..............................] - ETA: 0s - loss: 0.9951 - accuracy: 0.6484\n",
      "Epoch 72: saving model to model/keypoint_classifier\\keypoint_classifier.hdf5\n",
      "44/44 [==============================] - 0s 2ms/step - loss: 1.0785 - accuracy: 0.6265 - val_loss: 0.6980 - val_accuracy: 0.8198\n",
      "Epoch 73/1000\n",
      " 1/44 [..............................] - ETA: 0s - loss: 1.0640 - accuracy: 0.6562\n",
      "Epoch 73: saving model to model/keypoint_classifier\\keypoint_classifier.hdf5\n",
      "44/44 [==============================] - 0s 2ms/step - loss: 1.0578 - accuracy: 0.6352 - val_loss: 0.6940 - val_accuracy: 0.8187\n",
      "Epoch 74/1000\n",
      " 1/44 [..............................] - ETA: 0s - loss: 1.0340 - accuracy: 0.6250\n",
      "Epoch 74: saving model to model/keypoint_classifier\\keypoint_classifier.hdf5\n",
      "44/44 [==============================] - 0s 2ms/step - loss: 1.0760 - accuracy: 0.6196 - val_loss: 0.6838 - val_accuracy: 0.8378\n",
      "Epoch 75/1000\n",
      " 1/44 [..............................] - ETA: 0s - loss: 1.0189 - accuracy: 0.5781\n",
      "Epoch 75: saving model to model/keypoint_classifier\\keypoint_classifier.hdf5\n",
      "44/44 [==============================] - 0s 2ms/step - loss: 1.0617 - accuracy: 0.6240 - val_loss: 0.6868 - val_accuracy: 0.8340\n",
      "Epoch 76/1000\n",
      " 1/44 [..............................] - ETA: 0s - loss: 1.0542 - accuracy: 0.6562\n",
      "Epoch 76: saving model to model/keypoint_classifier\\keypoint_classifier.hdf5\n",
      "44/44 [==============================] - 0s 2ms/step - loss: 1.0692 - accuracy: 0.6279 - val_loss: 0.6886 - val_accuracy: 0.8236\n",
      "Epoch 77/1000\n",
      " 1/44 [..............................] - ETA: 0s - loss: 1.0975 - accuracy: 0.5938\n",
      "Epoch 77: saving model to model/keypoint_classifier\\keypoint_classifier.hdf5\n",
      "44/44 [==============================] - 0s 2ms/step - loss: 1.0756 - accuracy: 0.6274 - val_loss: 0.6959 - val_accuracy: 0.8209\n",
      "Epoch 78/1000\n",
      " 1/44 [..............................] - ETA: 0s - loss: 1.0705 - accuracy: 0.5859\n",
      "Epoch 78: saving model to model/keypoint_classifier\\keypoint_classifier.hdf5\n",
      "44/44 [==============================] - 0s 2ms/step - loss: 1.0627 - accuracy: 0.6274 - val_loss: 0.6850 - val_accuracy: 0.8459\n",
      "Epoch 79/1000\n",
      " 1/44 [..............................] - ETA: 0s - loss: 1.0594 - accuracy: 0.5859\n",
      "Epoch 79: saving model to model/keypoint_classifier\\keypoint_classifier.hdf5\n",
      "44/44 [==============================] - 0s 2ms/step - loss: 1.0888 - accuracy: 0.6194 - val_loss: 0.6969 - val_accuracy: 0.8247\n",
      "Epoch 80/1000\n",
      " 1/44 [..............................] - ETA: 0s - loss: 1.1030 - accuracy: 0.5625\n",
      "Epoch 80: saving model to model/keypoint_classifier\\keypoint_classifier.hdf5\n",
      "44/44 [==============================] - 0s 2ms/step - loss: 1.0564 - accuracy: 0.6276 - val_loss: 0.6823 - val_accuracy: 0.8361\n",
      "Epoch 81/1000\n",
      " 1/44 [..............................] - ETA: 0s - loss: 1.0456 - accuracy: 0.6797\n",
      "Epoch 81: saving model to model/keypoint_classifier\\keypoint_classifier.hdf5\n",
      "44/44 [==============================] - 0s 2ms/step - loss: 1.0472 - accuracy: 0.6336 - val_loss: 0.6840 - val_accuracy: 0.8220\n",
      "Epoch 82/1000\n"
     ]
    },
    {
     "name": "stdout",
     "output_type": "stream",
     "text": [
      " 1/44 [..............................] - ETA: 0s - loss: 0.9143 - accuracy: 0.6797\n",
      "Epoch 82: saving model to model/keypoint_classifier\\keypoint_classifier.hdf5\n",
      "44/44 [==============================] - 0s 2ms/step - loss: 1.0681 - accuracy: 0.6256 - val_loss: 0.6840 - val_accuracy: 0.8416\n",
      "Epoch 83/1000\n",
      " 1/44 [..............................] - ETA: 0s - loss: 0.9556 - accuracy: 0.6484\n",
      "Epoch 83: saving model to model/keypoint_classifier\\keypoint_classifier.hdf5\n",
      "44/44 [==============================] - 0s 2ms/step - loss: 1.0759 - accuracy: 0.6240 - val_loss: 0.6913 - val_accuracy: 0.8383\n",
      "Epoch 84/1000\n",
      " 1/44 [..............................] - ETA: 0s - loss: 0.9873 - accuracy: 0.6641\n",
      "Epoch 84: saving model to model/keypoint_classifier\\keypoint_classifier.hdf5\n",
      "44/44 [==============================] - 0s 2ms/step - loss: 1.0571 - accuracy: 0.6294 - val_loss: 0.6811 - val_accuracy: 0.8242\n",
      "Epoch 85/1000\n",
      " 1/44 [..............................] - ETA: 0s - loss: 1.0316 - accuracy: 0.6719\n",
      "Epoch 85: saving model to model/keypoint_classifier\\keypoint_classifier.hdf5\n",
      "44/44 [==============================] - 0s 2ms/step - loss: 1.0541 - accuracy: 0.6356 - val_loss: 0.6702 - val_accuracy: 0.8356\n",
      "Epoch 86/1000\n",
      " 1/44 [..............................] - ETA: 0s - loss: 1.1747 - accuracy: 0.6172\n",
      "Epoch 86: saving model to model/keypoint_classifier\\keypoint_classifier.hdf5\n",
      "44/44 [==============================] - 0s 2ms/step - loss: 1.0709 - accuracy: 0.6348 - val_loss: 0.6727 - val_accuracy: 0.8492\n",
      "Epoch 87/1000\n",
      " 1/44 [..............................] - ETA: 0s - loss: 1.2691 - accuracy: 0.5781\n",
      "Epoch 87: saving model to model/keypoint_classifier\\keypoint_classifier.hdf5\n",
      "44/44 [==============================] - 0s 2ms/step - loss: 1.0525 - accuracy: 0.6316 - val_loss: 0.6705 - val_accuracy: 0.8378\n",
      "Epoch 88/1000\n",
      " 1/44 [..............................] - ETA: 0s - loss: 1.1710 - accuracy: 0.5859\n",
      "Epoch 88: saving model to model/keypoint_classifier\\keypoint_classifier.hdf5\n",
      "44/44 [==============================] - 0s 2ms/step - loss: 1.0504 - accuracy: 0.6294 - val_loss: 0.6707 - val_accuracy: 0.8443\n",
      "Epoch 89/1000\n",
      " 1/44 [..............................] - ETA: 0s - loss: 1.2249 - accuracy: 0.5703\n",
      "Epoch 89: saving model to model/keypoint_classifier\\keypoint_classifier.hdf5\n",
      "44/44 [==============================] - 0s 2ms/step - loss: 1.0570 - accuracy: 0.6296 - val_loss: 0.6712 - val_accuracy: 0.8432\n",
      "Epoch 90/1000\n",
      " 1/44 [..............................] - ETA: 0s - loss: 1.1750 - accuracy: 0.6406\n",
      "Epoch 90: saving model to model/keypoint_classifier\\keypoint_classifier.hdf5\n",
      "44/44 [==============================] - 0s 2ms/step - loss: 1.0564 - accuracy: 0.6377 - val_loss: 0.6740 - val_accuracy: 0.8563\n",
      "Epoch 91/1000\n",
      " 1/44 [..............................] - ETA: 0s - loss: 0.9015 - accuracy: 0.7109\n",
      "Epoch 91: saving model to model/keypoint_classifier\\keypoint_classifier.hdf5\n",
      "44/44 [==============================] - 0s 2ms/step - loss: 1.0702 - accuracy: 0.6290 - val_loss: 0.6721 - val_accuracy: 0.8400\n",
      "Epoch 92/1000\n",
      " 1/44 [..............................] - ETA: 0s - loss: 0.9727 - accuracy: 0.6953\n",
      "Epoch 92: saving model to model/keypoint_classifier\\keypoint_classifier.hdf5\n",
      "44/44 [==============================] - 0s 2ms/step - loss: 1.0614 - accuracy: 0.6283 - val_loss: 0.6786 - val_accuracy: 0.8514\n",
      "Epoch 93/1000\n",
      " 1/44 [..............................] - ETA: 0s - loss: 1.0949 - accuracy: 0.6172\n",
      "Epoch 93: saving model to model/keypoint_classifier\\keypoint_classifier.hdf5\n",
      "44/44 [==============================] - 0s 2ms/step - loss: 1.0572 - accuracy: 0.6321 - val_loss: 0.6754 - val_accuracy: 0.8432\n",
      "Epoch 94/1000\n",
      " 1/44 [..............................] - ETA: 0s - loss: 0.9870 - accuracy: 0.6406\n",
      "Epoch 94: saving model to model/keypoint_classifier\\keypoint_classifier.hdf5\n",
      "44/44 [==============================] - 0s 2ms/step - loss: 1.0557 - accuracy: 0.6299 - val_loss: 0.6739 - val_accuracy: 0.8427\n",
      "Epoch 95/1000\n",
      " 1/44 [..............................] - ETA: 0s - loss: 1.0928 - accuracy: 0.6328\n",
      "Epoch 95: saving model to model/keypoint_classifier\\keypoint_classifier.hdf5\n",
      "44/44 [==============================] - 0s 2ms/step - loss: 1.0500 - accuracy: 0.6229 - val_loss: 0.6715 - val_accuracy: 0.8421\n",
      "Epoch 96/1000\n",
      " 1/44 [..............................] - ETA: 0s - loss: 0.9928 - accuracy: 0.6484\n",
      "Epoch 96: saving model to model/keypoint_classifier\\keypoint_classifier.hdf5\n",
      "44/44 [==============================] - 0s 2ms/step - loss: 1.0408 - accuracy: 0.6276 - val_loss: 0.6632 - val_accuracy: 0.8476\n",
      "Epoch 97/1000\n",
      " 1/44 [..............................] - ETA: 0s - loss: 1.0835 - accuracy: 0.5859\n",
      "Epoch 97: saving model to model/keypoint_classifier\\keypoint_classifier.hdf5\n",
      "44/44 [==============================] - 0s 2ms/step - loss: 1.0479 - accuracy: 0.6312 - val_loss: 0.6650 - val_accuracy: 0.8427\n",
      "Epoch 98/1000\n",
      " 1/44 [..............................] - ETA: 0s - loss: 0.9084 - accuracy: 0.7188\n",
      "Epoch 98: saving model to model/keypoint_classifier\\keypoint_classifier.hdf5\n",
      "44/44 [==============================] - 0s 2ms/step - loss: 1.0629 - accuracy: 0.6238 - val_loss: 0.6694 - val_accuracy: 0.8470\n",
      "Epoch 99/1000\n",
      " 1/44 [..............................] - ETA: 0s - loss: 1.0421 - accuracy: 0.6484\n",
      "Epoch 99: saving model to model/keypoint_classifier\\keypoint_classifier.hdf5\n",
      "44/44 [==============================] - 0s 2ms/step - loss: 1.0407 - accuracy: 0.6379 - val_loss: 0.6651 - val_accuracy: 0.8514\n",
      "Epoch 100/1000\n",
      " 1/44 [..............................] - ETA: 0s - loss: 1.0908 - accuracy: 0.5938\n",
      "Epoch 100: saving model to model/keypoint_classifier\\keypoint_classifier.hdf5\n",
      "44/44 [==============================] - 0s 2ms/step - loss: 1.0409 - accuracy: 0.6363 - val_loss: 0.6616 - val_accuracy: 0.8557\n",
      "Epoch 101/1000\n",
      " 1/44 [..............................] - ETA: 0s - loss: 1.0246 - accuracy: 0.6250\n",
      "Epoch 101: saving model to model/keypoint_classifier\\keypoint_classifier.hdf5\n",
      "44/44 [==============================] - 0s 2ms/step - loss: 1.0509 - accuracy: 0.6327 - val_loss: 0.6650 - val_accuracy: 0.8514\n",
      "Epoch 102/1000\n",
      " 1/44 [..............................] - ETA: 0s - loss: 1.1538 - accuracy: 0.6172\n",
      "Epoch 102: saving model to model/keypoint_classifier\\keypoint_classifier.hdf5\n",
      "44/44 [==============================] - 0s 2ms/step - loss: 1.0417 - accuracy: 0.6412 - val_loss: 0.6580 - val_accuracy: 0.8590\n",
      "Epoch 103/1000\n",
      " 1/44 [..............................] - ETA: 0s - loss: 0.8785 - accuracy: 0.6875\n",
      "Epoch 103: saving model to model/keypoint_classifier\\keypoint_classifier.hdf5\n",
      "44/44 [==============================] - 0s 2ms/step - loss: 1.0426 - accuracy: 0.6354 - val_loss: 0.6578 - val_accuracy: 0.8557\n",
      "Epoch 104/1000\n",
      " 1/44 [..............................] - ETA: 0s - loss: 0.8690 - accuracy: 0.7109\n",
      "Epoch 104: saving model to model/keypoint_classifier\\keypoint_classifier.hdf5\n",
      "44/44 [==============================] - 0s 2ms/step - loss: 1.0347 - accuracy: 0.6370 - val_loss: 0.6525 - val_accuracy: 0.8585\n",
      "Epoch 105/1000\n",
      " 1/44 [..............................] - ETA: 0s - loss: 0.9867 - accuracy: 0.6875\n",
      "Epoch 105: saving model to model/keypoint_classifier\\keypoint_classifier.hdf5\n",
      "44/44 [==============================] - 0s 2ms/step - loss: 1.0493 - accuracy: 0.6319 - val_loss: 0.6561 - val_accuracy: 0.8563\n",
      "Epoch 106/1000\n",
      " 1/44 [..............................] - ETA: 0s - loss: 1.0597 - accuracy: 0.5781\n",
      "Epoch 106: saving model to model/keypoint_classifier\\keypoint_classifier.hdf5\n",
      "44/44 [==============================] - 0s 2ms/step - loss: 1.0685 - accuracy: 0.6278 - val_loss: 0.6710 - val_accuracy: 0.8601\n",
      "Epoch 107/1000\n",
      " 1/44 [..............................] - ETA: 0s - loss: 1.1012 - accuracy: 0.6094\n",
      "Epoch 107: saving model to model/keypoint_classifier\\keypoint_classifier.hdf5\n",
      "44/44 [==============================] - 0s 2ms/step - loss: 1.0429 - accuracy: 0.6370 - val_loss: 0.6595 - val_accuracy: 0.8536\n",
      "Epoch 108/1000\n",
      " 1/44 [..............................] - ETA: 0s - loss: 1.1253 - accuracy: 0.6016\n",
      "Epoch 108: saving model to model/keypoint_classifier\\keypoint_classifier.hdf5\n",
      "44/44 [==============================] - 0s 2ms/step - loss: 1.0482 - accuracy: 0.6310 - val_loss: 0.6501 - val_accuracy: 0.8606\n",
      "Epoch 109/1000\n"
     ]
    },
    {
     "name": "stdout",
     "output_type": "stream",
     "text": [
      " 1/44 [..............................] - ETA: 0s - loss: 0.9152 - accuracy: 0.6719\n",
      "Epoch 109: saving model to model/keypoint_classifier\\keypoint_classifier.hdf5\n",
      "44/44 [==============================] - 0s 2ms/step - loss: 1.0402 - accuracy: 0.6394 - val_loss: 0.6508 - val_accuracy: 0.8541\n",
      "Epoch 110/1000\n",
      " 1/44 [..............................] - ETA: 0s - loss: 1.0163 - accuracy: 0.6172\n",
      "Epoch 110: saving model to model/keypoint_classifier\\keypoint_classifier.hdf5\n",
      "44/44 [==============================] - 0s 2ms/step - loss: 1.0502 - accuracy: 0.6309 - val_loss: 0.6490 - val_accuracy: 0.8547\n",
      "Epoch 111/1000\n",
      " 1/44 [..............................] - ETA: 0s - loss: 1.1083 - accuracy: 0.6641\n",
      "Epoch 111: saving model to model/keypoint_classifier\\keypoint_classifier.hdf5\n",
      "44/44 [==============================] - 0s 2ms/step - loss: 1.0186 - accuracy: 0.6421 - val_loss: 0.6443 - val_accuracy: 0.8579\n",
      "Epoch 112/1000\n",
      " 1/44 [..............................] - ETA: 0s - loss: 0.9587 - accuracy: 0.6562\n",
      "Epoch 112: saving model to model/keypoint_classifier\\keypoint_classifier.hdf5\n",
      "44/44 [==============================] - 0s 2ms/step - loss: 1.0348 - accuracy: 0.6356 - val_loss: 0.6498 - val_accuracy: 0.8557\n",
      "Epoch 113/1000\n",
      " 1/44 [..............................] - ETA: 0s - loss: 1.3157 - accuracy: 0.5703\n",
      "Epoch 113: saving model to model/keypoint_classifier\\keypoint_classifier.hdf5\n",
      "44/44 [==============================] - 0s 2ms/step - loss: 1.0524 - accuracy: 0.6285 - val_loss: 0.6495 - val_accuracy: 0.8568\n",
      "Epoch 114/1000\n",
      " 1/44 [..............................] - ETA: 0s - loss: 1.1014 - accuracy: 0.6484\n",
      "Epoch 114: saving model to model/keypoint_classifier\\keypoint_classifier.hdf5\n",
      "44/44 [==============================] - 0s 2ms/step - loss: 1.0362 - accuracy: 0.6388 - val_loss: 0.6505 - val_accuracy: 0.8596\n",
      "Epoch 115/1000\n",
      " 1/44 [..............................] - ETA: 0s - loss: 0.9488 - accuracy: 0.6406\n",
      "Epoch 115: saving model to model/keypoint_classifier\\keypoint_classifier.hdf5\n",
      "44/44 [==============================] - 0s 2ms/step - loss: 1.0431 - accuracy: 0.6399 - val_loss: 0.6518 - val_accuracy: 0.8606\n",
      "Epoch 116/1000\n",
      " 1/44 [..............................] - ETA: 0s - loss: 0.8531 - accuracy: 0.7031\n",
      "Epoch 116: saving model to model/keypoint_classifier\\keypoint_classifier.hdf5\n",
      "44/44 [==============================] - 0s 2ms/step - loss: 1.0417 - accuracy: 0.6387 - val_loss: 0.6531 - val_accuracy: 0.8563\n",
      "Epoch 117/1000\n",
      " 1/44 [..............................] - ETA: 0s - loss: 0.9758 - accuracy: 0.6406\n",
      "Epoch 117: saving model to model/keypoint_classifier\\keypoint_classifier.hdf5\n",
      "44/44 [==============================] - 0s 2ms/step - loss: 1.0208 - accuracy: 0.6474 - val_loss: 0.6446 - val_accuracy: 0.8536\n",
      "Epoch 118/1000\n",
      " 1/44 [..............................] - ETA: 0s - loss: 1.1596 - accuracy: 0.5938\n",
      "Epoch 118: saving model to model/keypoint_classifier\\keypoint_classifier.hdf5\n",
      "44/44 [==============================] - 0s 2ms/step - loss: 1.0317 - accuracy: 0.6377 - val_loss: 0.6473 - val_accuracy: 0.8585\n",
      "Epoch 119/1000\n",
      " 1/44 [..............................] - ETA: 0s - loss: 1.0304 - accuracy: 0.6719\n",
      "Epoch 119: saving model to model/keypoint_classifier\\keypoint_classifier.hdf5\n",
      "44/44 [==============================] - 0s 2ms/step - loss: 1.0340 - accuracy: 0.6426 - val_loss: 0.6455 - val_accuracy: 0.8530\n",
      "Epoch 120/1000\n",
      " 1/44 [..............................] - ETA: 0s - loss: 1.0068 - accuracy: 0.6641\n",
      "Epoch 120: saving model to model/keypoint_classifier\\keypoint_classifier.hdf5\n",
      "44/44 [==============================] - 0s 2ms/step - loss: 1.0286 - accuracy: 0.6368 - val_loss: 0.6439 - val_accuracy: 0.8519\n",
      "Epoch 121/1000\n",
      " 1/44 [..............................] - ETA: 0s - loss: 1.0708 - accuracy: 0.6484\n",
      "Epoch 121: saving model to model/keypoint_classifier\\keypoint_classifier.hdf5\n",
      "44/44 [==============================] - 0s 2ms/step - loss: 1.0472 - accuracy: 0.6376 - val_loss: 0.6482 - val_accuracy: 0.8552\n",
      "Epoch 122/1000\n",
      " 1/44 [..............................] - ETA: 0s - loss: 1.0782 - accuracy: 0.6016\n",
      "Epoch 122: saving model to model/keypoint_classifier\\keypoint_classifier.hdf5\n",
      "44/44 [==============================] - 0s 2ms/step - loss: 1.0204 - accuracy: 0.6443 - val_loss: 0.6378 - val_accuracy: 0.8585\n",
      "Epoch 123/1000\n",
      " 1/44 [..............................] - ETA: 0s - loss: 1.0345 - accuracy: 0.6719\n",
      "Epoch 123: saving model to model/keypoint_classifier\\keypoint_classifier.hdf5\n",
      "44/44 [==============================] - 0s 2ms/step - loss: 1.0360 - accuracy: 0.6405 - val_loss: 0.6458 - val_accuracy: 0.8601\n",
      "Epoch 124/1000\n",
      " 1/44 [..............................] - ETA: 0s - loss: 1.1459 - accuracy: 0.6094\n",
      "Epoch 124: saving model to model/keypoint_classifier\\keypoint_classifier.hdf5\n",
      "44/44 [==============================] - 0s 2ms/step - loss: 1.0387 - accuracy: 0.6381 - val_loss: 0.6401 - val_accuracy: 0.8617\n",
      "Epoch 125/1000\n",
      " 1/44 [..............................] - ETA: 0s - loss: 1.0100 - accuracy: 0.6797\n",
      "Epoch 125: saving model to model/keypoint_classifier\\keypoint_classifier.hdf5\n",
      "44/44 [==============================] - 0s 2ms/step - loss: 1.0317 - accuracy: 0.6412 - val_loss: 0.6323 - val_accuracy: 0.8541\n",
      "Epoch 126/1000\n",
      " 1/44 [..............................] - ETA: 0s - loss: 1.1124 - accuracy: 0.6250\n",
      "Epoch 126: saving model to model/keypoint_classifier\\keypoint_classifier.hdf5\n",
      "44/44 [==============================] - 0s 2ms/step - loss: 1.0444 - accuracy: 0.6370 - val_loss: 0.6402 - val_accuracy: 0.8530\n",
      "Epoch 127/1000\n",
      " 1/44 [..............................] - ETA: 0s - loss: 1.0789 - accuracy: 0.6094\n",
      "Epoch 127: saving model to model/keypoint_classifier\\keypoint_classifier.hdf5\n",
      "44/44 [==============================] - 0s 2ms/step - loss: 1.0350 - accuracy: 0.6430 - val_loss: 0.6369 - val_accuracy: 0.8547\n",
      "Epoch 128/1000\n",
      " 1/44 [..............................] - ETA: 0s - loss: 0.9465 - accuracy: 0.6484\n",
      "Epoch 128: saving model to model/keypoint_classifier\\keypoint_classifier.hdf5\n",
      "44/44 [==============================] - 0s 2ms/step - loss: 1.0339 - accuracy: 0.6383 - val_loss: 0.6365 - val_accuracy: 0.8590\n",
      "Epoch 129/1000\n",
      " 1/44 [..............................] - ETA: 0s - loss: 1.0405 - accuracy: 0.6562\n",
      "Epoch 129: saving model to model/keypoint_classifier\\keypoint_classifier.hdf5\n",
      "44/44 [==============================] - 0s 2ms/step - loss: 1.0398 - accuracy: 0.6347 - val_loss: 0.6447 - val_accuracy: 0.8487\n",
      "Epoch 130/1000\n",
      " 1/44 [..............................] - ETA: 0s - loss: 1.0006 - accuracy: 0.6562\n",
      "Epoch 130: saving model to model/keypoint_classifier\\keypoint_classifier.hdf5\n",
      "44/44 [==============================] - 0s 2ms/step - loss: 1.0410 - accuracy: 0.6401 - val_loss: 0.6441 - val_accuracy: 0.8487\n",
      "Epoch 131/1000\n",
      " 1/44 [..............................] - ETA: 0s - loss: 1.0305 - accuracy: 0.6719\n",
      "Epoch 131: saving model to model/keypoint_classifier\\keypoint_classifier.hdf5\n",
      "44/44 [==============================] - 0s 2ms/step - loss: 1.0305 - accuracy: 0.6377 - val_loss: 0.6364 - val_accuracy: 0.8536\n",
      "Epoch 132/1000\n",
      " 1/44 [..............................] - ETA: 0s - loss: 1.0904 - accuracy: 0.5781\n",
      "Epoch 132: saving model to model/keypoint_classifier\\keypoint_classifier.hdf5\n",
      "44/44 [==============================] - 0s 2ms/step - loss: 1.0094 - accuracy: 0.6525 - val_loss: 0.6358 - val_accuracy: 0.8568\n",
      "Epoch 133/1000\n",
      " 1/44 [..............................] - ETA: 0s - loss: 0.8733 - accuracy: 0.6875\n",
      "Epoch 133: saving model to model/keypoint_classifier\\keypoint_classifier.hdf5\n",
      "44/44 [==============================] - 0s 2ms/step - loss: 1.0151 - accuracy: 0.6499 - val_loss: 0.6334 - val_accuracy: 0.8557\n",
      "Epoch 134/1000\n",
      " 1/44 [..............................] - ETA: 0s - loss: 1.0713 - accuracy: 0.5859\n",
      "Epoch 134: saving model to model/keypoint_classifier\\keypoint_classifier.hdf5\n",
      "44/44 [==============================] - 0s 2ms/step - loss: 1.0328 - accuracy: 0.6334 - val_loss: 0.6453 - val_accuracy: 0.8519\n",
      "Epoch 135/1000\n",
      " 1/44 [..............................] - ETA: 0s - loss: 0.8850 - accuracy: 0.6875\n",
      "Epoch 135: saving model to model/keypoint_classifier\\keypoint_classifier.hdf5\n",
      "44/44 [==============================] - 0s 2ms/step - loss: 1.0164 - accuracy: 0.6446 - val_loss: 0.6327 - val_accuracy: 0.8557\n"
     ]
    },
    {
     "name": "stdout",
     "output_type": "stream",
     "text": [
      "Epoch 136/1000\n",
      " 1/44 [..............................] - ETA: 0s - loss: 1.1076 - accuracy: 0.6172\n",
      "Epoch 136: saving model to model/keypoint_classifier\\keypoint_classifier.hdf5\n",
      "44/44 [==============================] - 0s 2ms/step - loss: 1.0417 - accuracy: 0.6325 - val_loss: 0.6460 - val_accuracy: 0.8514\n",
      "Epoch 137/1000\n",
      " 1/44 [..............................] - ETA: 0s - loss: 0.8497 - accuracy: 0.6953\n",
      "Epoch 137: saving model to model/keypoint_classifier\\keypoint_classifier.hdf5\n",
      "44/44 [==============================] - 0s 2ms/step - loss: 1.0349 - accuracy: 0.6363 - val_loss: 0.6371 - val_accuracy: 0.8508\n",
      "Epoch 138/1000\n",
      " 1/44 [..............................] - ETA: 0s - loss: 0.9980 - accuracy: 0.6562\n",
      "Epoch 138: saving model to model/keypoint_classifier\\keypoint_classifier.hdf5\n",
      "44/44 [==============================] - 0s 2ms/step - loss: 1.0291 - accuracy: 0.6407 - val_loss: 0.6417 - val_accuracy: 0.8552\n",
      "Epoch 139/1000\n",
      " 1/44 [..............................] - ETA: 0s - loss: 1.0734 - accuracy: 0.5625\n",
      "Epoch 139: saving model to model/keypoint_classifier\\keypoint_classifier.hdf5\n",
      "44/44 [==============================] - 0s 2ms/step - loss: 1.0239 - accuracy: 0.6379 - val_loss: 0.6349 - val_accuracy: 0.8541\n",
      "Epoch 140/1000\n",
      " 1/44 [..............................] - ETA: 0s - loss: 1.0138 - accuracy: 0.5859\n",
      "Epoch 140: saving model to model/keypoint_classifier\\keypoint_classifier.hdf5\n",
      "44/44 [==============================] - 0s 2ms/step - loss: 1.0385 - accuracy: 0.6436 - val_loss: 0.6403 - val_accuracy: 0.8606\n",
      "Epoch 141/1000\n",
      " 1/44 [..............................] - ETA: 0s - loss: 0.9514 - accuracy: 0.6562\n",
      "Epoch 141: saving model to model/keypoint_classifier\\keypoint_classifier.hdf5\n",
      "44/44 [==============================] - 0s 2ms/step - loss: 1.0243 - accuracy: 0.6495 - val_loss: 0.6348 - val_accuracy: 0.8563\n",
      "Epoch 142/1000\n",
      " 1/44 [..............................] - ETA: 0s - loss: 1.1373 - accuracy: 0.6328\n",
      "Epoch 142: saving model to model/keypoint_classifier\\keypoint_classifier.hdf5\n",
      "44/44 [==============================] - 0s 2ms/step - loss: 1.0130 - accuracy: 0.6497 - val_loss: 0.6233 - val_accuracy: 0.8563\n",
      "Epoch 143/1000\n",
      " 1/44 [..............................] - ETA: 0s - loss: 1.0797 - accuracy: 0.6094\n",
      "Epoch 143: saving model to model/keypoint_classifier\\keypoint_classifier.hdf5\n",
      "44/44 [==============================] - 0s 2ms/step - loss: 1.0407 - accuracy: 0.6388 - val_loss: 0.6303 - val_accuracy: 0.8547\n",
      "Epoch 144/1000\n",
      " 1/44 [..............................] - ETA: 0s - loss: 0.8647 - accuracy: 0.7344\n",
      "Epoch 144: saving model to model/keypoint_classifier\\keypoint_classifier.hdf5\n",
      "44/44 [==============================] - 0s 2ms/step - loss: 1.0075 - accuracy: 0.6501 - val_loss: 0.6293 - val_accuracy: 0.8525\n",
      "Epoch 145/1000\n",
      " 1/44 [..............................] - ETA: 0s - loss: 1.1460 - accuracy: 0.5781\n",
      "Epoch 145: saving model to model/keypoint_classifier\\keypoint_classifier.hdf5\n",
      "44/44 [==============================] - 0s 2ms/step - loss: 1.0114 - accuracy: 0.6412 - val_loss: 0.6343 - val_accuracy: 0.8645\n",
      "Epoch 146/1000\n",
      " 1/44 [..............................] - ETA: 0s - loss: 1.1098 - accuracy: 0.6172\n",
      "Epoch 146: saving model to model/keypoint_classifier\\keypoint_classifier.hdf5\n",
      "44/44 [==============================] - 0s 2ms/step - loss: 1.0146 - accuracy: 0.6470 - val_loss: 0.6256 - val_accuracy: 0.8530\n",
      "Epoch 147/1000\n",
      " 1/44 [..............................] - ETA: 0s - loss: 0.9284 - accuracy: 0.7031\n",
      "Epoch 147: saving model to model/keypoint_classifier\\keypoint_classifier.hdf5\n",
      "44/44 [==============================] - 0s 2ms/step - loss: 1.0341 - accuracy: 0.6399 - val_loss: 0.6338 - val_accuracy: 0.8547\n",
      "Epoch 148/1000\n",
      " 1/44 [..............................] - ETA: 0s - loss: 0.9570 - accuracy: 0.6875\n",
      "Epoch 148: saving model to model/keypoint_classifier\\keypoint_classifier.hdf5\n",
      "44/44 [==============================] - 0s 2ms/step - loss: 1.0191 - accuracy: 0.6394 - val_loss: 0.6329 - val_accuracy: 0.8519\n",
      "Epoch 149/1000\n",
      " 1/44 [..............................] - ETA: 0s - loss: 0.9943 - accuracy: 0.6641\n",
      "Epoch 149: saving model to model/keypoint_classifier\\keypoint_classifier.hdf5\n",
      "44/44 [==============================] - 0s 2ms/step - loss: 1.0242 - accuracy: 0.6523 - val_loss: 0.6360 - val_accuracy: 0.8590\n",
      "Epoch 150/1000\n",
      " 1/44 [..............................] - ETA: 0s - loss: 0.9956 - accuracy: 0.6016\n",
      "Epoch 150: saving model to model/keypoint_classifier\\keypoint_classifier.hdf5\n",
      "44/44 [==============================] - 0s 2ms/step - loss: 1.0343 - accuracy: 0.6410 - val_loss: 0.6351 - val_accuracy: 0.8547\n",
      "Epoch 151/1000\n",
      " 1/44 [..............................] - ETA: 0s - loss: 1.0385 - accuracy: 0.6250\n",
      "Epoch 151: saving model to model/keypoint_classifier\\keypoint_classifier.hdf5\n",
      "44/44 [==============================] - 0s 2ms/step - loss: 1.0426 - accuracy: 0.6392 - val_loss: 0.6385 - val_accuracy: 0.8541\n",
      "Epoch 152/1000\n",
      " 1/44 [..............................] - ETA: 0s - loss: 1.0798 - accuracy: 0.6250\n",
      "Epoch 152: saving model to model/keypoint_classifier\\keypoint_classifier.hdf5\n",
      "44/44 [==============================] - 0s 2ms/step - loss: 1.0212 - accuracy: 0.6461 - val_loss: 0.6424 - val_accuracy: 0.8579\n",
      "Epoch 153/1000\n",
      " 1/44 [..............................] - ETA: 0s - loss: 0.9186 - accuracy: 0.6875\n",
      "Epoch 153: saving model to model/keypoint_classifier\\keypoint_classifier.hdf5\n",
      "44/44 [==============================] - 0s 2ms/step - loss: 1.0202 - accuracy: 0.6421 - val_loss: 0.6418 - val_accuracy: 0.8476\n",
      "Epoch 154/1000\n",
      " 1/44 [..............................] - ETA: 0s - loss: 1.1759 - accuracy: 0.6094\n",
      "Epoch 154: saving model to model/keypoint_classifier\\keypoint_classifier.hdf5\n",
      "44/44 [==============================] - 0s 2ms/step - loss: 1.0272 - accuracy: 0.6474 - val_loss: 0.6410 - val_accuracy: 0.8579\n",
      "Epoch 155/1000\n",
      " 1/44 [..............................] - ETA: 0s - loss: 1.0508 - accuracy: 0.6641\n",
      "Epoch 155: saving model to model/keypoint_classifier\\keypoint_classifier.hdf5\n",
      "44/44 [==============================] - 0s 2ms/step - loss: 1.0009 - accuracy: 0.6544 - val_loss: 0.6297 - val_accuracy: 0.8568\n",
      "Epoch 156/1000\n",
      " 1/44 [..............................] - ETA: 0s - loss: 0.8496 - accuracy: 0.7031\n",
      "Epoch 156: saving model to model/keypoint_classifier\\keypoint_classifier.hdf5\n",
      "44/44 [==============================] - 0s 2ms/step - loss: 1.0235 - accuracy: 0.6399 - val_loss: 0.6338 - val_accuracy: 0.8612\n",
      "Epoch 157/1000\n",
      " 1/44 [..............................] - ETA: 0s - loss: 1.0306 - accuracy: 0.6328\n",
      "Epoch 157: saving model to model/keypoint_classifier\\keypoint_classifier.hdf5\n",
      "44/44 [==============================] - 0s 2ms/step - loss: 1.0332 - accuracy: 0.6367 - val_loss: 0.6330 - val_accuracy: 0.8536\n",
      "Epoch 158/1000\n",
      " 1/44 [..............................] - ETA: 0s - loss: 0.9553 - accuracy: 0.6797\n",
      "Epoch 158: saving model to model/keypoint_classifier\\keypoint_classifier.hdf5\n",
      "44/44 [==============================] - 0s 2ms/step - loss: 1.0163 - accuracy: 0.6416 - val_loss: 0.6322 - val_accuracy: 0.8498\n",
      "Epoch 159/1000\n",
      " 1/44 [..............................] - ETA: 0s - loss: 1.0866 - accuracy: 0.6484\n",
      "Epoch 159: saving model to model/keypoint_classifier\\keypoint_classifier.hdf5\n",
      "44/44 [==============================] - 0s 2ms/step - loss: 1.0117 - accuracy: 0.6517 - val_loss: 0.6262 - val_accuracy: 0.8601\n",
      "Epoch 160/1000\n",
      " 1/44 [..............................] - ETA: 0s - loss: 0.9588 - accuracy: 0.6719\n",
      "Epoch 160: saving model to model/keypoint_classifier\\keypoint_classifier.hdf5\n",
      "44/44 [==============================] - 0s 2ms/step - loss: 1.0204 - accuracy: 0.6456 - val_loss: 0.6296 - val_accuracy: 0.8519\n",
      "Epoch 161/1000\n",
      " 1/44 [..............................] - ETA: 0s - loss: 1.1042 - accuracy: 0.6172\n",
      "Epoch 161: saving model to model/keypoint_classifier\\keypoint_classifier.hdf5\n",
      "44/44 [==============================] - 0s 2ms/step - loss: 1.0302 - accuracy: 0.6397 - val_loss: 0.6401 - val_accuracy: 0.8557\n",
      "Epoch 162/1000\n",
      " 1/44 [..............................] - ETA: 0s - loss: 0.9573 - accuracy: 0.6719\n",
      "Epoch 162: saving model to model/keypoint_classifier\\keypoint_classifier.hdf5\n",
      "44/44 [==============================] - 0s 2ms/step - loss: 1.0210 - accuracy: 0.6412 - val_loss: 0.6295 - val_accuracy: 0.8519\n"
     ]
    },
    {
     "name": "stdout",
     "output_type": "stream",
     "text": [
      "Epoch 162: early stopping\n"
     ]
    },
    {
     "data": {
      "text/plain": [
       "<keras.callbacks.History at 0x264b101ba00>"
      ]
     },
     "execution_count": 11,
     "metadata": {},
     "output_type": "execute_result"
    }
   ],
   "source": [
    "model.fit(\n",
    "    X_train,\n",
    "    y_train,\n",
    "    epochs=1000,\n",
    "    batch_size=128,\n",
    "    validation_data=(X_test, y_test),\n",
    "    callbacks=[cp_callback, es_callback]\n",
    ")"
   ]
  },
  {
   "cell_type": "code",
   "execution_count": 12,
   "metadata": {
    "colab": {
     "base_uri": "https://localhost:8080/"
    },
    "id": "pxvb2Y299hE3",
    "outputId": "59eb3185-2e37-4b9e-bc9d-ab1b8ac29b7f"
   },
   "outputs": [
    {
     "name": "stdout",
     "output_type": "stream",
     "text": [
      "15/15 [==============================] - 0s 698us/step - loss: 0.6295 - accuracy: 0.8519\n"
     ]
    }
   ],
   "source": [
    "# Model evaluation\n",
    "val_loss, val_acc = model.evaluate(X_test, y_test, batch_size=128)"
   ]
  },
  {
   "cell_type": "code",
   "execution_count": 13,
   "metadata": {
    "id": "RBkmDeUW9hE4"
   },
   "outputs": [],
   "source": [
    "# Loading the saved model\n",
    "model = tf.keras.models.load_model(model_save_path)"
   ]
  },
  {
   "cell_type": "code",
   "execution_count": 14,
   "metadata": {
    "colab": {
     "base_uri": "https://localhost:8080/"
    },
    "id": "tFz9Tb0I9hE4",
    "outputId": "1c3b3528-54ae-4ee2-ab04-77429211cbef"
   },
   "outputs": [
    {
     "name": "stdout",
     "output_type": "stream",
     "text": [
      "1/1 [==============================] - 0s 55ms/step\n",
      "[0.05670045 0.02626275 0.37240657 0.09948172 0.01633694 0.02977249\n",
      " 0.39903915]\n",
      "6\n"
     ]
    }
   ],
   "source": [
    "# Inference test\n",
    "predict_result = model.predict(np.array([X_test[0]]))\n",
    "print(np.squeeze(predict_result))\n",
    "print(np.argmax(np.squeeze(predict_result)))"
   ]
  },
  {
   "cell_type": "markdown",
   "metadata": {
    "id": "S3U4yNWx9hE4"
   },
   "source": [
    "# Confusion matrix"
   ]
  },
  {
   "cell_type": "code",
   "execution_count": 15,
   "metadata": {
    "colab": {
     "base_uri": "https://localhost:8080/",
     "height": 582
    },
    "id": "AP1V6SCk9hE5",
    "outputId": "08e41a80-7a4a-4619-8125-ecc371368d19"
   },
   "outputs": [
    {
     "name": "stdout",
     "output_type": "stream",
     "text": [
      "58/58 [==============================] - 0s 546us/step\n"
     ]
    },
    {
     "data": {
      "image/png": "[encoded data removed]",
      "text/plain": [
       "<Figure size 700x600 with 2 Axes>"
      ]
     },
     "metadata": {},
     "output_type": "display_data"
    },
    {
     "name": "stdout",
     "output_type": "stream",
     "text": [
      "Classification Report\n",
      "              precision    recall  f1-score   support\n",
      "\n",
      "           0       0.74      0.77      0.75       264\n",
      "           1       0.89      0.87      0.88       262\n",
      "           2       0.81      0.93      0.87       426\n",
      "           3       0.98      0.76      0.86       178\n",
      "           4       0.82      0.95      0.88       313\n",
      "           5       0.00      0.00      0.00        61\n",
      "           6       0.96      0.91      0.94       333\n",
      "\n",
      "    accuracy                           0.85      1837\n",
      "   macro avg       0.74      0.74      0.74      1837\n",
      "weighted avg       0.83      0.85      0.84      1837\n",
      "\n"
     ]
    },
    {
     "name": "stderr",
     "output_type": "stream",
     "text": [
      "C:\\Users\\just1\\anaconda3\\lib\\site-packages\\sklearn\\metrics\\_classification.py:1318: UndefinedMetricWarning: Precision and F-score are ill-defined and being set to 0.0 in labels with no predicted samples. Use `zero_division` parameter to control this behavior.\n",
      "  _warn_prf(average, modifier, msg_start, len(result))\n",
      "C:\\Users\\just1\\anaconda3\\lib\\site-packages\\sklearn\\metrics\\_classification.py:1318: UndefinedMetricWarning: Precision and F-score are ill-defined and being set to 0.0 in labels with no predicted samples. Use `zero_division` parameter to control this behavior.\n",
      "  _warn_prf(average, modifier, msg_start, len(result))\n",
      "C:\\Users\\just1\\anaconda3\\lib\\site-packages\\sklearn\\metrics\\_classification.py:1318: UndefinedMetricWarning: Precision and F-score are ill-defined and being set to 0.0 in labels with no predicted samples. Use `zero_division` parameter to control this behavior.\n",
      "  _warn_prf(average, modifier, msg_start, len(result))\n"
     ]
    }
   ],
   "source": [
    "import pandas as pd\n",
    "import seaborn as sns\n",
    "import matplotlib.pyplot as plt\n",
    "from sklearn.metrics import confusion_matrix, classification_report\n",
    "\n",
    "def print_confusion_matrix(y_true, y_pred, report=True):\n",
    "    labels = sorted(list(set(y_true)))\n",
    "    cmx_data = confusion_matrix(y_true, y_pred, labels=labels)\n",
    "    \n",
    "    df_cmx = pd.DataFrame(cmx_data, index=labels, columns=labels)\n",
    " \n",
    "    fig, ax = plt.subplots(figsize=(7, 6))\n",
    "    sns.heatmap(df_cmx, annot=True, fmt='g' ,square=False)\n",
    "    ax.set_ylim(len(set(y_true)), 0)\n",
    "    plt.show()\n",
    "    \n",
    "    if report:\n",
    "        print('Classification Report')\n",
    "        print(classification_report(y_test, y_pred))\n",
    "\n",
    "Y_pred = model.predict(X_test)\n",
    "y_pred = np.argmax(Y_pred, axis=1)\n",
    "\n",
    "print_confusion_matrix(y_test, y_pred)"
   ]
  },
  {
   "cell_type": "markdown",
   "metadata": {
    "id": "FNP6aqzc9hE5"
   },
   "source": [
    "# Convert to model for Tensorflow-Lite"
   ]
  },
  {
   "cell_type": "code",
   "execution_count": 16,
   "metadata": {
    "id": "ODjnYyld9hE6"
   },
   "outputs": [],
   "source": [
    "# Save as a model dedicated to inference\n",
    "model.save(model_save_path, include_optimizer=False)"
   ]
  },
  {
   "cell_type": "code",
   "execution_count": 17,
   "metadata": {
    "colab": {
     "base_uri": "https://localhost:8080/"
    },
    "id": "zRfuK8Y59hE6",
    "outputId": "a4ca585c-b5d5-4244-8291-8674063209bb"
   },
   "outputs": [
    {
     "name": "stdout",
     "output_type": "stream",
     "text": [
      "INFO:tensorflow:Assets written to: C:\\Users\\just1\\AppData\\Local\\Temp\\tmp560klgcs\\assets\n"
     ]
    },
    {
     "data": {
      "text/plain": [
       "6676"
      ]
     },
     "execution_count": 17,
     "metadata": {},
     "output_type": "execute_result"
    }
   ],
   "source": [
    "# Transform model (quantization)\n",
    "\n",
    "converter = tf.lite.TFLiteConverter.from_keras_model(model)\n",
    "converter.optimizations = [tf.lite.Optimize.DEFAULT]\n",
    "tflite_quantized_model = converter.convert()\n",
    "\n",
    "open(tflite_save_path, 'wb').write(tflite_quantized_model)"
   ]
  },
  {
   "cell_type": "markdown",
   "metadata": {
    "id": "CHBPBXdx9hE6"
   },
   "source": [
    "# Inference test"
   ]
  },
  {
   "cell_type": "code",
   "execution_count": 18,
   "metadata": {
    "id": "mGAzLocO9hE7"
   },
   "outputs": [],
   "source": [
    "interpreter = tf.lite.Interpreter(model_path=tflite_save_path)\n",
    "interpreter.allocate_tensors()"
   ]
  },
  {
   "cell_type": "code",
   "execution_count": 19,
   "metadata": {
    "id": "oQuDK8YS9hE7"
   },
   "outputs": [],
   "source": [
    "# Get I / O tensor\n",
    "input_details = interpreter.get_input_details()\n",
    "output_details = interpreter.get_output_details()"
   ]
  },
  {
   "cell_type": "code",
   "execution_count": 20,
   "metadata": {
    "id": "2_ixAf_l9hE7"
   },
   "outputs": [],
   "source": [
    "interpreter.set_tensor(input_details[0]['index'], np.array([X_test[0]]))"
   ]
  },
  {
   "cell_type": "code",
   "execution_count": 21,
   "metadata": {
    "colab": {
     "base_uri": "https://localhost:8080/"
    },
    "id": "s4FoAnuc9hE7",
    "outputId": "91f18257-8d8b-4ef3-c558-e9b5f94fabbf",
    "scrolled": true
   },
   "outputs": [
    {
     "name": "stdout",
     "output_type": "stream",
     "text": [
      "CPU times: total: 0 ns\n",
      "Wall time: 0 ns\n"
     ]
    }
   ],
   "source": [
    "%%time\n",
    "# Inference implementation\n",
    "interpreter.invoke()\n",
    "tflite_results = interpreter.get_tensor(output_details[0]['index'])"
   ]
  },
  {
   "cell_type": "code",
   "execution_count": 22,
   "metadata": {
    "colab": {
     "base_uri": "https://localhost:8080/"
    },
    "id": "vONjp19J9hE8",
    "outputId": "77205e24-fd00-42c4-f7b6-e06e527c2cba"
   },
   "outputs": [
    {
     "name": "stdout",
     "output_type": "stream",
     "text": [
      "[0.05670046 0.02626275 0.3724065  0.09948169 0.01633694 0.02977248\n",
      " 0.3990391 ]\n",
      "6\n"
     ]
    }
   ],
   "source": [
    "print(np.squeeze(tflite_results))\n",
    "print(np.argmax(np.squeeze(tflite_results)))"
   ]
  }
 ],
 "metadata": {
  "accelerator": "GPU",
  "colab": {
   "collapsed_sections": [],
   "name": "keypoint_classification_EN.ipynb",
   "provenance": [],
   "toc_visible": true
  },
  "kernelspec": {
   "display_name": "Python 3 (ipykernel)",
   "language": "python",
   "name": "python3"
  },
  "language_info": {
   "codemirror_mode": {
    "name": "ipython",
    "version": 3
   },
   "file_extension": ".py",
   "mimetype": "text/x-python",
   "name": "python",
   "nbconvert_exporter": "python",
   "pygments_lexer": "ipython3",
   "version": "3.9.13"
  }
 },
 "nbformat": 4,
 "nbformat_minor": 1
}
